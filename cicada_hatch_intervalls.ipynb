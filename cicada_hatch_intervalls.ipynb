{
 "cells": [
  {
   "cell_type": "markdown",
   "metadata": {},
   "source": [
    "## Computing years at regular intervals based on the current year\n",
    "\n",
    "Recently, while visiting the east coast, I enjoyed the Brood X cicadas which were out in full force.  Cicadas hatch at intervals of 17 years.  This got me thinking about other years within the 17 year sequence of the current year (2021).  \n",
    "\n",
    "How did previous generations discuss and deal with these cicadas infestations.  It would be fun to look through historical newspaper clippings.  But to do that I need to know the prior year sequences of Brood X.\n"
   ]
  },
  {
   "cell_type": "code",
   "execution_count": 1,
   "metadata": {},
   "outputs": [],
   "source": [
    "import pandas as pd\n",
    "import numpy as np\n",
    "import datetime\n",
    "import matplotlib.pyplot as plt"
   ]
  },
  {
   "cell_type": "markdown",
   "metadata": {},
   "source": [
    "## Method 1 - pd.date_range()"
   ]
  },
  {
   "cell_type": "code",
   "execution_count": 79,
   "metadata": {},
   "outputs": [
    {
     "data": {
      "text/plain": [
       "Timestamp('1677-09-21 00:12:43.145225')"
      ]
     },
     "execution_count": 79,
     "metadata": {},
     "output_type": "execute_result"
    }
   ],
   "source": [
    "pd.Timestamp.min"
   ]
  },
  {
   "cell_type": "code",
   "execution_count": 68,
   "metadata": {},
   "outputs": [
    {
     "data": {
      "text/plain": [
       "Timestamp('2262-04-11 23:47:16.854775807')"
      ]
     },
     "execution_count": 68,
     "metadata": {},
     "output_type": "execute_result"
    }
   ],
   "source": [
    "pd.Timestamp.max"
   ]
  },
  {
   "cell_type": "code",
   "execution_count": 78,
   "metadata": {},
   "outputs": [
    {
     "data": {
      "text/plain": [
       "585"
      ]
     },
     "execution_count": 78,
     "metadata": {},
     "output_type": "execute_result"
    }
   ],
   "source": [
    "# how many years are there in python datetime\n",
    "pd.Timestamp.max.year - pd.Timestamp.min.year"
   ]
  },
  {
   "cell_type": "code",
   "execution_count": 47,
   "metadata": {},
   "outputs": [],
   "source": [
    "# generate prior and future years within sequence \n",
    "years = list(pd.date_range(datetime.datetime.today(), pd.Timestamp.min + pd.Timedelta('17Y'), freq='-17Y').year) +  \\\n",
    "list(pd.date_range(datetime.datetime.today(), pd.Timestamp.max - pd.Timedelta('17Y'), freq='17Y').year)"
   ]
  },
  {
   "cell_type": "code",
   "execution_count": 48,
   "metadata": {},
   "outputs": [],
   "source": [
    "# remove duplicate year (2021)\n",
    "years = sorted(list(set(total_lists)))"
   ]
  },
  {
   "cell_type": "code",
   "execution_count": 50,
   "metadata": {},
   "outputs": [
    {
     "data": {
      "text/plain": [
       "'[1698, 1715, 1732, 1749, 1766, 1783, 1800, 1817, 1834, 1851, 1868, 1885, 1902, 1919, 1936, 1953, 1970, 1987, 2004, 2021, 2038, 2055, 2072, 2089, 2106, 2123, 2140, 2157, 2174, 2191, 2208, 2225, 2242, 2259]'"
      ]
     },
     "execution_count": 50,
     "metadata": {},
     "output_type": "execute_result"
    }
   ],
   "source": [
    "str(years)"
   ]
  },
  {
   "cell_type": "markdown",
   "metadata": {},
   "source": [
    "#### With this method it is easy to get the \"Out of bounds nanosecond timestamp\" error.  This is why I have included pd.Timestamp.min as the min and pd.Timestamp.max as max paramaters."
   ]
  },
  {
   "cell_type": "markdown",
   "metadata": {},
   "source": [
    "## Method 2 - range()"
   ]
  },
  {
   "cell_type": "markdown",
   "metadata": {},
   "source": [
    "#### Future years"
   ]
  },
  {
   "cell_type": "code",
   "execution_count": 28,
   "metadata": {},
   "outputs": [
    {
     "data": {
      "text/plain": [
       "'[2021, 2038, 2055, 2072, 2089, 2106, 2123, 2140, 2157, 2174, 2191, 2208, 2225, 2242, 2259, 2276, 2293, 2310, 2327, 2344, 2361, 2378, 2395, 2412, 2429, 2446, 2463, 2480, 2497, 2514, 2531, 2548, 2565, 2582, 2599, 2616, 2633, 2650, 2667, 2684, 2701, 2718, 2735, 2752, 2769, 2786, 2803, 2820, 2837, 2854, 2871, 2888, 2905, 2922, 2939, 2956, 2973, 2990]'"
      ]
     },
     "execution_count": 28,
     "metadata": {},
     "output_type": "execute_result"
    }
   ],
   "source": [
    "str([x for x in range(2021, 3000, 17)])"
   ]
  },
  {
   "cell_type": "markdown",
   "metadata": {},
   "source": [
    "#### Prior years"
   ]
  },
  {
   "cell_type": "code",
   "execution_count": 26,
   "metadata": {},
   "outputs": [
    {
     "data": {
      "text/plain": [
       "'[2021, 2004, 1987, 1970, 1953, 1936, 1919, 1902, 1885, 1868, 1851, 1834, 1817, 1800, 1783, 1766, 1749, 1732, 1715, 1698, 1681, 1664, 1647, 1630, 1613, 1596, 1579, 1562, 1545, 1528, 1511, 1494, 1477, 1460, 1443, 1426, 1409, 1392, 1375, 1358, 1341, 1324, 1307, 1290, 1273, 1256, 1239, 1222, 1205, 1188, 1171, 1154, 1137, 1120, 1103, 1086, 1069, 1052, 1035, 1018, 1001]'"
      ]
     },
     "execution_count": 26,
     "metadata": {},
     "output_type": "execute_result"
    }
   ],
   "source": [
    "str([x for x in range(2021, 1000, -17)])"
   ]
  },
  {
   "cell_type": "markdown",
   "metadata": {},
   "source": [
    "#### Combined years"
   ]
  },
  {
   "cell_type": "code",
   "execution_count": 66,
   "metadata": {},
   "outputs": [
    {
     "data": {
      "text/plain": [
       "'[1001, 1018, 1035, 1052, 1069, 1086, 1103, 1120, 1137, 1154, 1171, 1188, 1205, 1222, 1239, 1256, 1273, 1290, 1307, 1324, 1341, 1358, 1375, 1392, 1409, 1426, 1443, 1460, 1477, 1494, 1511, 1528, 1545, 1562, 1579, 1596, 1613, 1630, 1647, 1664, 1681, 1698, 1715, 1732, 1749, 1766, 1783, 1800, 1817, 1834, 1851, 1868, 1885, 1902, 1919, 1936, 1953, 1970, 1987, 2004, 2021, 2038, 2055, 2072, 2089, 2106, 2123, 2140, 2157, 2174, 2191, 2208, 2225, 2242, 2259, 2276, 2293, 2310, 2327, 2344, 2361, 2378, 2395, 2412, 2429, 2446, 2463, 2480, 2497, 2514, 2531, 2548, 2565, 2582, 2599, 2616, 2633, 2650, 2667, 2684, 2701, 2718, 2735, 2752, 2769, 2786, 2803, 2820, 2837, 2854, 2871, 2888, 2905, 2922, 2939, 2956, 2973, 2990]'"
      ]
     },
     "execution_count": 66,
     "metadata": {},
     "output_type": "execute_result"
    }
   ],
   "source": [
    "str(sorted(list(set([x for x in range(2021, 3000, 17)] + [x for x in range(2021, 1000, -17)]))))"
   ]
  },
  {
   "cell_type": "markdown",
   "metadata": {},
   "source": [
    "#### Overall, range is more concise, and I can generate as many years as I want forward and back with no issues."
   ]
  }
 ],
 "metadata": {
  "kernelspec": {
   "display_name": "Python 3",
   "language": "python",
   "name": "python3"
  },
  "language_info": {
   "codemirror_mode": {
    "name": "ipython",
    "version": 3
   },
   "file_extension": ".py",
   "mimetype": "text/x-python",
   "name": "python",
   "nbconvert_exporter": "python",
   "pygments_lexer": "ipython3",
   "version": "3.7.3"
  }
 },
 "nbformat": 4,
 "nbformat_minor": 4
}
